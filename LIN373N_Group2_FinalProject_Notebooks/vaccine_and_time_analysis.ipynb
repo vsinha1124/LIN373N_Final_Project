{
 "cells": [
  {
   "cell_type": "code",
   "execution_count": 40,
   "metadata": {},
   "outputs": [],
   "source": [
    "# plotting\n",
    "import seaborn as sns\n",
    "import matplotlib.pyplot as plt\n",
    "\n",
    "# nltk\n",
    "import nltk\n",
    "from nltk.stem import WordNetLemmatizer\n",
    "from nltk.corpus import stopwords\n",
    "from nltk.tokenize import word_tokenize\n",
    "\n",
    "# sklearn\n",
    "from sklearn.model_selection import train_test_split\n",
    "from sklearn.feature_extraction.text import TfidfVectorizer\n",
    "from sklearn.metrics import confusion_matrix, classification_report\n",
    "\n",
    "from sklearn.linear_model import LogisticRegression\n",
    "from sklearn.svm import LinearSVC\n",
    "from sklearn.ensemble import RandomForestClassifier\n",
    "from sklearn.naive_bayes import BernoulliNB\n",
    "\n",
    "\n",
    "#tensorflow\n",
    "import tensorflow.compat.v2 as tf\n",
    "import tensorflow_datasets as tfds\n",
    "\n",
    "# Utility\n",
    "import pandas as pd\n",
    "import numpy as np \n",
    "import warnings\n",
    "warnings.filterwarnings('ignore')\n",
    "import re\n",
    "import string\n",
    "import pickle\n",
    "\n",
    "#df = pd.read_csv(\"sentiment140-subset.csv\", nrows=100000)\n",
    "df = pd.read_csv('vaccination_all_tweets.csv')\n",
    "#df = df.drop(index=90) #this tweet's formatting is just really messed up\n",
    "df.head(10)\n",
    "df_train = pd.read_csv('training.1600000.processed.noemoticon.csv',encoding='latin', names = ['polarity','id','date','query','user','text'])\n",
    "df_train = df_train.drop(index=90) #this tweet's formatting is just really messed up\n",
    "df_train.head(10)"
   ]
  },
  {
   "cell_type": "code",
   "execution_count": 42,
   "metadata": {},
   "outputs": [
    {
     "data": {
      "text/plain": [
       "array([0, 0, 0, ..., 1, 1, 1])"
      ]
     },
     "execution_count": 42,
     "metadata": {},
     "output_type": "execute_result"
    }
   ],
   "source": [
    "df_train['polarity'] = df_train['polarity'].replace(4,1)\n",
    "y = df_train['polarity'].values"
   ]
  },
  {
   "cell_type": "code",
   "execution_count": 20,
   "metadata": {},
   "outputs": [],
   "source": [
    "import re\n",
    "import string\n",
    "import unidecode\n",
    "\n",
    "def word_count(words):\n",
    "    return len(words.split())\n",
    "\n",
    "def remove_punct(s):\n",
    "    punct = string.punctuation + 'Ã§º¯³|¡¿'\n",
    "    for char in punct:\n",
    "        s = s.replace(char, '')\n",
    "    return s\n",
    "\n",
    "def remove_accents(accented_string):\n",
    "    unaccented_string = unidecode.unidecode(accented_string)\n",
    "    return unaccented_string\n",
    "\n",
    "def clean(df):\n",
    "    df['text'] = df['text'].map(lambda x:re.sub(r'\\w*@\\w*', '', x) ) #remove twitter handles\n",
    "    df['text'] = df['text'].map(lambda x:re.sub(r'http\\S+', '', x) ) #remove urls\n",
    "    df['text'] = df['text'].map(lambda x:re.sub(r'[0-9]', '', x) ) #remove numbers\n",
    "    df['text'] = df['text'].map(lambda x:remove_punct(x)) #remove punctuation marks\n",
    "    df['text'] = df['text'].map(lambda x:remove_accents(x)) #remove accents\n",
    "    df['text'] = df['text'].map(lambda x: x.lower()) #lower case\n",
    "\n",
    "clean(df)\n",
    "clean(df_train)"
   ]
  },
  {
   "cell_type": "code",
   "execution_count": 5,
   "metadata": {},
   "outputs": [
    {
     "name": "stderr",
     "output_type": "stream",
     "text": [
      "[nltk_data] Downloading package stopwords to\n",
      "[nltk_data]     /Users/vidursinha/nltk_data...\n",
      "[nltk_data]   Package stopwords is already up-to-date!\n",
      "[nltk_data] Downloading package punkt to\n",
      "[nltk_data]     /Users/vidursinha/nltk_data...\n",
      "[nltk_data]   Package punkt is already up-to-date!\n",
      "[nltk_data] Downloading package wordnet to\n",
      "[nltk_data]     /Users/vidursinha/nltk_data...\n",
      "[nltk_data]   Package wordnet is already up-to-date!\n"
     ]
    },
    {
     "data": {
      "text/plain": [
       "True"
      ]
     },
     "execution_count": 5,
     "metadata": {},
     "output_type": "execute_result"
    }
   ],
   "source": [
    "nltk.download('stopwords')\n",
    "stopword = set(stopwords.words('english'))\n",
    "nltk.download('punkt')\n",
    "nltk.download('wordnet')"
   ]
  },
  {
   "cell_type": "code",
   "execution_count": 6,
   "metadata": {},
   "outputs": [],
   "source": [
    "urlPattern = r\"((http://)[^ ]*|(https://)[^ ]*|( www\\.)[^ ]*)\"\n",
    "userPattern = '@[^\\s]+'\n",
    "def process_tweets(tweet):\n",
    "    #tokenizing words\n",
    "    tokens = word_tokenize(tweet)\n",
    "    #Removing Stop Words\n",
    "    final_tokens = [w for w in tokens if w not in stopword]\n",
    "    #reducing a word to its word stem \n",
    "    wordLemm = WordNetLemmatizer()\n",
    "    finalwords=[]\n",
    "    for w in final_tokens:\n",
    "        if len(w)>1:\n",
    "            word = wordLemm.lemmatize(w)\n",
    "            finalwords.append(word)\n",
    "    return ' '.join(finalwords)"
   ]
  },
  {
   "cell_type": "code",
   "execution_count": 21,
   "metadata": {},
   "outputs": [],
   "source": [
    "df['text'] = df['text'].apply(lambda x: process_tweets(x))\n",
    "df_train['text'] = df_train['text'].apply(lambda x: process_tweets(x))"
   ]
  },
  {
   "cell_type": "code",
   "execution_count": 8,
   "metadata": {},
   "outputs": [
    {
     "data": {
      "text/html": [
       "<div>\n",
       "<style scoped>\n",
       "    .dataframe tbody tr th:only-of-type {\n",
       "        vertical-align: middle;\n",
       "    }\n",
       "\n",
       "    .dataframe tbody tr th {\n",
       "        vertical-align: top;\n",
       "    }\n",
       "\n",
       "    .dataframe thead th {\n",
       "        text-align: right;\n",
       "    }\n",
       "</style>\n",
       "<table border=\"1\" class=\"dataframe\">\n",
       "  <thead>\n",
       "    <tr style=\"text-align: right;\">\n",
       "      <th></th>\n",
       "      <th>id</th>\n",
       "      <th>user_name</th>\n",
       "      <th>user_location</th>\n",
       "      <th>user_description</th>\n",
       "      <th>user_created</th>\n",
       "      <th>user_followers</th>\n",
       "      <th>user_friends</th>\n",
       "      <th>user_favourites</th>\n",
       "      <th>user_verified</th>\n",
       "      <th>date</th>\n",
       "      <th>text</th>\n",
       "      <th>hashtags</th>\n",
       "      <th>source</th>\n",
       "      <th>retweets</th>\n",
       "      <th>favorites</th>\n",
       "      <th>is_retweet</th>\n",
       "    </tr>\n",
       "  </thead>\n",
       "  <tbody>\n",
       "    <tr>\n",
       "      <td>0</td>\n",
       "      <td>1340539111971516416</td>\n",
       "      <td>Rachel Roh</td>\n",
       "      <td>La Crescenta-Montrose, CA</td>\n",
       "      <td>Aggregator of Asian American news; scanning di...</td>\n",
       "      <td>2009-04-08 17:52:46</td>\n",
       "      <td>405</td>\n",
       "      <td>1692</td>\n",
       "      <td>3247</td>\n",
       "      <td>False</td>\n",
       "      <td>2020-12-20 06:06:44</td>\n",
       "      <td>folk said daikon paste could treat cytokine st...</td>\n",
       "      <td>['PfizerBioNTech']</td>\n",
       "      <td>Twitter for Android</td>\n",
       "      <td>0</td>\n",
       "      <td>0</td>\n",
       "      <td>False</td>\n",
       "    </tr>\n",
       "    <tr>\n",
       "      <td>1</td>\n",
       "      <td>1338158543359250433</td>\n",
       "      <td>Albert Fong</td>\n",
       "      <td>San Francisco, CA</td>\n",
       "      <td>Marketing dude, tech geek, heavy metal &amp; '80s ...</td>\n",
       "      <td>2009-09-21 15:27:30</td>\n",
       "      <td>834</td>\n",
       "      <td>666</td>\n",
       "      <td>178</td>\n",
       "      <td>False</td>\n",
       "      <td>2020-12-13 16:27:13</td>\n",
       "      <td>world wrong side history year hopefully bigges...</td>\n",
       "      <td>NaN</td>\n",
       "      <td>Twitter Web App</td>\n",
       "      <td>1</td>\n",
       "      <td>1</td>\n",
       "      <td>False</td>\n",
       "    </tr>\n",
       "    <tr>\n",
       "      <td>2</td>\n",
       "      <td>1337858199140118533</td>\n",
       "      <td>eli🇱🇹🇪🇺👌</td>\n",
       "      <td>Your Bed</td>\n",
       "      <td>heil, hydra 🖐☺</td>\n",
       "      <td>2020-06-25 23:30:28</td>\n",
       "      <td>10</td>\n",
       "      <td>88</td>\n",
       "      <td>155</td>\n",
       "      <td>False</td>\n",
       "      <td>2020-12-12 20:33:45</td>\n",
       "      <td>coronavirus sputnikv astrazeneca pfizerbiontec...</td>\n",
       "      <td>['coronavirus', 'SputnikV', 'AstraZeneca', 'Pf...</td>\n",
       "      <td>Twitter for Android</td>\n",
       "      <td>0</td>\n",
       "      <td>0</td>\n",
       "      <td>False</td>\n",
       "    </tr>\n",
       "    <tr>\n",
       "      <td>3</td>\n",
       "      <td>1337855739918835717</td>\n",
       "      <td>Charles Adler</td>\n",
       "      <td>Vancouver, BC - Canada</td>\n",
       "      <td>Hosting \"CharlesAdlerTonight\" Global News Radi...</td>\n",
       "      <td>2008-09-10 11:28:53</td>\n",
       "      <td>49165</td>\n",
       "      <td>3933</td>\n",
       "      <td>21853</td>\n",
       "      <td>True</td>\n",
       "      <td>2020-12-12 20:23:59</td>\n",
       "      <td>fact immutable senator even youre ethically st...</td>\n",
       "      <td>NaN</td>\n",
       "      <td>Twitter Web App</td>\n",
       "      <td>446</td>\n",
       "      <td>2129</td>\n",
       "      <td>False</td>\n",
       "    </tr>\n",
       "    <tr>\n",
       "      <td>4</td>\n",
       "      <td>1337854064604966912</td>\n",
       "      <td>Citizen News Channel</td>\n",
       "      <td>NaN</td>\n",
       "      <td>Citizen News Channel bringing you an alternati...</td>\n",
       "      <td>2020-04-23 17:58:42</td>\n",
       "      <td>152</td>\n",
       "      <td>580</td>\n",
       "      <td>1473</td>\n",
       "      <td>False</td>\n",
       "      <td>2020-12-12 20:17:19</td>\n",
       "      <td>explain need vaccine whereareallthesickpeople ...</td>\n",
       "      <td>['whereareallthesickpeople', 'PfizerBioNTech']</td>\n",
       "      <td>Twitter for iPhone</td>\n",
       "      <td>0</td>\n",
       "      <td>0</td>\n",
       "      <td>False</td>\n",
       "    </tr>\n",
       "    <tr>\n",
       "      <td>5</td>\n",
       "      <td>1337852648389832708</td>\n",
       "      <td>Dee</td>\n",
       "      <td>Birmingham, England</td>\n",
       "      <td>Gastroenterology trainee, Clinical Research Fe...</td>\n",
       "      <td>2020-01-26 21:43:12</td>\n",
       "      <td>105</td>\n",
       "      <td>108</td>\n",
       "      <td>106</td>\n",
       "      <td>False</td>\n",
       "      <td>2020-12-12 20:11:42</td>\n",
       "      <td>anyone useful adviceguidance whether covid vac...</td>\n",
       "      <td>NaN</td>\n",
       "      <td>Twitter for iPhone</td>\n",
       "      <td>0</td>\n",
       "      <td>0</td>\n",
       "      <td>False</td>\n",
       "    </tr>\n",
       "    <tr>\n",
       "      <td>6</td>\n",
       "      <td>1337851215875608579</td>\n",
       "      <td>Gunther Fehlinger</td>\n",
       "      <td>Austria, Ukraine and Kosovo</td>\n",
       "      <td>End North Stream 2 now - the pipeline of corru...</td>\n",
       "      <td>2013-06-10 17:49:22</td>\n",
       "      <td>2731</td>\n",
       "      <td>5001</td>\n",
       "      <td>69344</td>\n",
       "      <td>False</td>\n",
       "      <td>2020-12-12 20:06:00</td>\n",
       "      <td>bit sad claim fame success vaccination patriot...</td>\n",
       "      <td>['vaccination']</td>\n",
       "      <td>Twitter Web App</td>\n",
       "      <td>0</td>\n",
       "      <td>4</td>\n",
       "      <td>False</td>\n",
       "    </tr>\n",
       "    <tr>\n",
       "      <td>7</td>\n",
       "      <td>1337850832256176136</td>\n",
       "      <td>Dr.Krutika Kuppalli</td>\n",
       "      <td>NaN</td>\n",
       "      <td>ID, Global Health, VHF, Pandemic Prep, Emergin...</td>\n",
       "      <td>2019-03-25 04:14:29</td>\n",
       "      <td>21924</td>\n",
       "      <td>593</td>\n",
       "      <td>7815</td>\n",
       "      <td>True</td>\n",
       "      <td>2020-12-12 20:04:29</td>\n",
       "      <td>many bright day best bidenharris winning elect...</td>\n",
       "      <td>['BidenHarris', 'Election2020']</td>\n",
       "      <td>Twitter for iPhone</td>\n",
       "      <td>2</td>\n",
       "      <td>22</td>\n",
       "      <td>False</td>\n",
       "    </tr>\n",
       "    <tr>\n",
       "      <td>8</td>\n",
       "      <td>1337850023531347969</td>\n",
       "      <td>Erin Despas</td>\n",
       "      <td>NaN</td>\n",
       "      <td>Designing&amp;selling on Teespring. Like 90s Disne...</td>\n",
       "      <td>2009-10-30 17:53:54</td>\n",
       "      <td>887</td>\n",
       "      <td>1515</td>\n",
       "      <td>9639</td>\n",
       "      <td>False</td>\n",
       "      <td>2020-12-12 20:01:16</td>\n",
       "      <td>covid vaccine getting covidvaccine covid pfize...</td>\n",
       "      <td>['CovidVaccine', 'covid19', 'PfizerBioNTech', ...</td>\n",
       "      <td>Twitter Web App</td>\n",
       "      <td>2</td>\n",
       "      <td>1</td>\n",
       "      <td>False</td>\n",
       "    </tr>\n",
       "    <tr>\n",
       "      <td>9</td>\n",
       "      <td>1337842295857623042</td>\n",
       "      <td>Ch.Amjad Ali</td>\n",
       "      <td>Islamabad</td>\n",
       "      <td>#ProudPakistani #LovePakArmy #PMIK @insafiansp...</td>\n",
       "      <td>2012-11-12 04:18:12</td>\n",
       "      <td>671</td>\n",
       "      <td>2368</td>\n",
       "      <td>20469</td>\n",
       "      <td>False</td>\n",
       "      <td>2020-12-12 19:30:33</td>\n",
       "      <td>covidvaccine state start getting covidvaccine ...</td>\n",
       "      <td>['CovidVaccine', 'COVID19Vaccine', 'US', 'paku...</td>\n",
       "      <td>Twitter Web App</td>\n",
       "      <td>0</td>\n",
       "      <td>0</td>\n",
       "      <td>False</td>\n",
       "    </tr>\n",
       "  </tbody>\n",
       "</table>\n",
       "</div>"
      ],
      "text/plain": [
       "                    id             user_name                user_location  \\\n",
       "0  1340539111971516416            Rachel Roh    La Crescenta-Montrose, CA   \n",
       "1  1338158543359250433           Albert Fong            San Francisco, CA   \n",
       "2  1337858199140118533              eli🇱🇹🇪🇺👌                     Your Bed   \n",
       "3  1337855739918835717         Charles Adler       Vancouver, BC - Canada   \n",
       "4  1337854064604966912  Citizen News Channel                          NaN   \n",
       "5  1337852648389832708                   Dee          Birmingham, England   \n",
       "6  1337851215875608579     Gunther Fehlinger  Austria, Ukraine and Kosovo   \n",
       "7  1337850832256176136   Dr.Krutika Kuppalli                          NaN   \n",
       "8  1337850023531347969           Erin Despas                          NaN   \n",
       "9  1337842295857623042          Ch.Amjad Ali                    Islamabad   \n",
       "\n",
       "                                    user_description         user_created  \\\n",
       "0  Aggregator of Asian American news; scanning di...  2009-04-08 17:52:46   \n",
       "1  Marketing dude, tech geek, heavy metal & '80s ...  2009-09-21 15:27:30   \n",
       "2                                     heil, hydra 🖐☺  2020-06-25 23:30:28   \n",
       "3  Hosting \"CharlesAdlerTonight\" Global News Radi...  2008-09-10 11:28:53   \n",
       "4  Citizen News Channel bringing you an alternati...  2020-04-23 17:58:42   \n",
       "5  Gastroenterology trainee, Clinical Research Fe...  2020-01-26 21:43:12   \n",
       "6  End North Stream 2 now - the pipeline of corru...  2013-06-10 17:49:22   \n",
       "7  ID, Global Health, VHF, Pandemic Prep, Emergin...  2019-03-25 04:14:29   \n",
       "8  Designing&selling on Teespring. Like 90s Disne...  2009-10-30 17:53:54   \n",
       "9  #ProudPakistani #LovePakArmy #PMIK @insafiansp...  2012-11-12 04:18:12   \n",
       "\n",
       "   user_followers  user_friends  user_favourites  user_verified  \\\n",
       "0             405          1692             3247          False   \n",
       "1             834           666              178          False   \n",
       "2              10            88              155          False   \n",
       "3           49165          3933            21853           True   \n",
       "4             152           580             1473          False   \n",
       "5             105           108              106          False   \n",
       "6            2731          5001            69344          False   \n",
       "7           21924           593             7815           True   \n",
       "8             887          1515             9639          False   \n",
       "9             671          2368            20469          False   \n",
       "\n",
       "                  date                                               text  \\\n",
       "0  2020-12-20 06:06:44  folk said daikon paste could treat cytokine st...   \n",
       "1  2020-12-13 16:27:13  world wrong side history year hopefully bigges...   \n",
       "2  2020-12-12 20:33:45  coronavirus sputnikv astrazeneca pfizerbiontec...   \n",
       "3  2020-12-12 20:23:59  fact immutable senator even youre ethically st...   \n",
       "4  2020-12-12 20:17:19  explain need vaccine whereareallthesickpeople ...   \n",
       "5  2020-12-12 20:11:42  anyone useful adviceguidance whether covid vac...   \n",
       "6  2020-12-12 20:06:00  bit sad claim fame success vaccination patriot...   \n",
       "7  2020-12-12 20:04:29  many bright day best bidenharris winning elect...   \n",
       "8  2020-12-12 20:01:16  covid vaccine getting covidvaccine covid pfize...   \n",
       "9  2020-12-12 19:30:33  covidvaccine state start getting covidvaccine ...   \n",
       "\n",
       "                                            hashtags               source  \\\n",
       "0                                 ['PfizerBioNTech']  Twitter for Android   \n",
       "1                                                NaN      Twitter Web App   \n",
       "2  ['coronavirus', 'SputnikV', 'AstraZeneca', 'Pf...  Twitter for Android   \n",
       "3                                                NaN      Twitter Web App   \n",
       "4     ['whereareallthesickpeople', 'PfizerBioNTech']   Twitter for iPhone   \n",
       "5                                                NaN   Twitter for iPhone   \n",
       "6                                    ['vaccination']      Twitter Web App   \n",
       "7                    ['BidenHarris', 'Election2020']   Twitter for iPhone   \n",
       "8  ['CovidVaccine', 'covid19', 'PfizerBioNTech', ...      Twitter Web App   \n",
       "9  ['CovidVaccine', 'COVID19Vaccine', 'US', 'paku...      Twitter Web App   \n",
       "\n",
       "   retweets  favorites  is_retweet  \n",
       "0         0          0       False  \n",
       "1         1          1       False  \n",
       "2         0          0       False  \n",
       "3       446       2129       False  \n",
       "4         0          0       False  \n",
       "5         0          0       False  \n",
       "6         0          4       False  \n",
       "7         2         22       False  \n",
       "8         2          1       False  \n",
       "9         0          0       False  "
      ]
     },
     "execution_count": 8,
     "metadata": {},
     "output_type": "execute_result"
    }
   ],
   "source": [
    "df.head(10)"
   ]
  },
  {
   "cell_type": "code",
   "execution_count": 30,
   "metadata": {},
   "outputs": [
    {
     "name": "stdout",
     "output_type": "stream",
     "text": [
      "69718\n",
      "1599999\n"
     ]
    },
    {
     "data": {
      "text/plain": [
       "numpy.ndarray"
      ]
     },
     "execution_count": 30,
     "metadata": {},
     "output_type": "execute_result"
    }
   ],
   "source": [
    "X = df['text'].values\n",
    "X_train = df_train['text'].values\n",
    "print(len(X))\n",
    "print(len(X_train))\n",
    "type(X)"
   ]
  },
  {
   "cell_type": "code",
   "execution_count": 32,
   "metadata": {},
   "outputs": [],
   "source": [
    "total = np.concatenate((X, X_train), axis=None)\n",
    "vector = TfidfVectorizer(sublinear_tf=True, ngram_range=(1,2))\n",
    "total_vectorized = vector.fit_transform(total)"
   ]
  },
  {
   "cell_type": "code",
   "execution_count": 38,
   "metadata": {},
   "outputs": [
    {
     "name": "stdout",
     "output_type": "stream",
     "text": [
      "(69718, 4619975)\n",
      "(1599999, 4619975)\n"
     ]
    }
   ],
   "source": [
    "X_test = total_vectorized[:69718,:]\n",
    "X_train = total_vectorized[69718:,:]\n",
    "print(X_test.shape)\n",
    "print(X_train.shape)"
   ]
  },
  {
   "cell_type": "code",
   "execution_count": 43,
   "metadata": {},
   "outputs": [
    {
     "name": "stdout",
     "output_type": "stream",
     "text": [
      "[LibLinear][LibLinear][LibLinear][LibLinear]"
     ]
    },
    {
     "data": {
      "text/plain": [
       "0.7919404963012409"
      ]
     },
     "execution_count": 43,
     "metadata": {},
     "output_type": "execute_result"
    }
   ],
   "source": [
    "from sklearn.model_selection import cross_val_score\n",
    "lr_xval_model = LogisticRegression(random_state=3, solver='liblinear', verbose=True)\n",
    "lr_xval_scores = cross_val_score(lr_xval_model, X_train, y, cv=4)\n",
    "lr_xval_scores.mean()"
   ]
  },
  {
   "cell_type": "code",
   "execution_count": 44,
   "metadata": {},
   "outputs": [
    {
     "name": "stdout",
     "output_type": "stream",
     "text": [
      "[LibLinear]"
     ]
    },
    {
     "data": {
      "text/plain": [
       "LogisticRegression(C=1.0, class_weight=None, dual=False, fit_intercept=True,\n",
       "                   intercept_scaling=1, l1_ratio=None, max_iter=100,\n",
       "                   multi_class='auto', n_jobs=None, penalty='l2',\n",
       "                   random_state=3, solver='liblinear', tol=0.0001, verbose=True,\n",
       "                   warm_start=False)"
      ]
     },
     "execution_count": 44,
     "metadata": {},
     "output_type": "execute_result"
    }
   ],
   "source": [
    "log_reg_model = LogisticRegression(random_state=3, solver='liblinear', verbose=True)\n",
    "log_reg_model.fit(X_train, y)"
   ]
  },
  {
   "cell_type": "code",
   "execution_count": 45,
   "metadata": {},
   "outputs": [],
   "source": [
    "covid_sent_pred = log_reg_model.predict(X_test)"
   ]
  },
  {
   "cell_type": "code",
   "execution_count": 56,
   "metadata": {},
   "outputs": [
    {
     "data": {
      "text/plain": [
       "0"
      ]
     },
     "execution_count": 56,
     "metadata": {},
     "output_type": "execute_result"
    }
   ],
   "source": [
    "covid_sent_pred[344]"
   ]
  },
  {
   "cell_type": "code",
   "execution_count": 61,
   "metadata": {},
   "outputs": [
    {
     "data": {
      "text/plain": [
       "'careful people life depends twentythree people died norway within day receiving first ...'"
      ]
     },
     "execution_count": 61,
     "metadata": {},
     "output_type": "execute_result"
    }
   ],
   "source": [
    "X[3441]"
   ]
  },
  {
   "cell_type": "code",
   "execution_count": 62,
   "metadata": {},
   "outputs": [
    {
     "data": {
      "text/plain": [
       "'Be careful , people lives depends on it as Twenty-three people died in Norway within days of receiving their first… https://t.co/JjhnqVoolS'"
      ]
     },
     "execution_count": 62,
     "metadata": {},
     "output_type": "execute_result"
    }
   ],
   "source": [
    "df['text'][3441]"
   ]
  },
  {
   "cell_type": "code",
   "execution_count": 66,
   "metadata": {},
   "outputs": [],
   "source": [
    "import datetime\n",
    "date_time_obj = datetime.datetime.strptime(df['date'][0], '%Y-%m-%d %H:%M:%S')"
   ]
  },
  {
   "cell_type": "code",
   "execution_count": 65,
   "metadata": {},
   "outputs": [
    {
     "data": {
      "text/plain": [
       "'2020-12-20 06:06:44'"
      ]
     },
     "execution_count": 65,
     "metadata": {},
     "output_type": "execute_result"
    }
   ],
   "source": [
    "df['date'][0]"
   ]
  },
  {
   "cell_type": "code",
   "execution_count": 164,
   "metadata": {},
   "outputs": [],
   "source": [
    "def get_two_week_indexes(month, first_half):\n",
    "    indexes = []\n",
    "    for i in range(len(df)):\n",
    "        date_time = datetime.datetime.strptime(df['date'][i], '%Y-%m-%d %H:%M:%S')\n",
    "        if date_time.month == month:\n",
    "            if first_half:\n",
    "                if date_time.day < 16:\n",
    "                    indexes.append(i)\n",
    "            else:\n",
    "                if date_time.day >= 16:\n",
    "                    indexes.append(i)\n",
    "    return indexes"
   ]
  },
  {
   "cell_type": "code",
   "execution_count": 263,
   "metadata": {},
   "outputs": [],
   "source": [
    "def get_keyword_indexes(word):\n",
    "    ret_list = []\n",
    "    for i in range(len(X)):\n",
    "        if word in X[i]:\n",
    "            ret_list.append(i)\n",
    "    return ret_list\n",
    "\n",
    "def get_positive_percentage(indexes):\n",
    "    pred_vals = 0\n",
    "    count = 0\n",
    "    for i in indexes:\n",
    "        pred_vals += covid_sent_pred[i]\n",
    "        count += 1\n",
    "    if count == 0:\n",
    "        return 0\n",
    "    return pred_vals/count\n",
    "        "
   ]
  },
  {
   "cell_type": "code",
   "execution_count": 154,
   "metadata": {},
   "outputs": [],
   "source": [
    "side_effect_idx = get_keyword_indexes(\"side effect\") + get_keyword_indexes(\"side affect\")"
   ]
  },
  {
   "cell_type": "code",
   "execution_count": 279,
   "metadata": {},
   "outputs": [],
   "source": [
    "pos_percentage = []\n",
    "for i in [12,1,2,3,4]:\n",
    "    pos_percentage.append(get_positive_percentage(get_two_week_indexes(i, True)))\n",
    "    pos_percentage.append(get_positive_percentage(get_two_week_indexes(i, False)))"
   ]
  },
  {
   "cell_type": "code",
   "execution_count": 280,
   "metadata": {},
   "outputs": [
    {
     "data": {
      "text/plain": [
       "Text(0.5, 1.0, 'All Tweets Sentiments Over Time')"
      ]
     },
     "execution_count": 280,
     "metadata": {},
     "output_type": "execute_result"
    },
    {
     "data": {
      "image/png": "[encoded data removed]",
      "text/plain": [
       "<Figure size 432x288 with 1 Axes>"
      ]
     },
     "metadata": {},
     "output_type": "display_data"
    }
   ],
   "source": [
    "months_axis = [\"Dec1\", \"Dec2\", \"Jan1\", \"Jan2\", \"Feb1\", \"Feb2\", \"Mar1\", \"Mar2\", \"Apr1\", \"Apr2\"]\n",
    "time_plot_dict = {'Month': months_axis, 'Positive/Total': pos_percentage}\n",
    "time_plot_df = pd.DataFrame(time_plot_dict)\n",
    "\n",
    "# plot using lineplot\n",
    "sns.set(style='darkgrid')\n",
    "sns.lineplot(x='Month', y='Positive/Total', data=time_plot_df, sort=False)\n",
    "plt.title(\"All Tweets Sentiments Over Time\")"
   ]
  },
  {
   "cell_type": "code",
   "execution_count": 281,
   "metadata": {},
   "outputs": [],
   "source": [
    "vaccines = ['moderna', 'pfizer', 'johnson']\n",
    "vaccine_percent_pos = []\n",
    "for vaccine in vaccines:\n",
    "    vaccine_percent_pos.append(get_positive_percentage(get_keyword_indexes(vaccine)))"
   ]
  },
  {
   "cell_type": "code",
   "execution_count": 282,
   "metadata": {},
   "outputs": [
    {
     "data": {
      "text/plain": [
       "Text(0.5, 1.0, 'US Vaccine Comparison')"
      ]
     },
     "execution_count": 282,
     "metadata": {},
     "output_type": "execute_result"
    },
    {
     "data": {
      "image/png": "[encoded data removed]",
      "text/plain": [
       "<Figure size 432x288 with 1 Axes>"
      ]
     },
     "metadata": {},
     "output_type": "display_data"
    }
   ],
   "source": [
    "vaccine_plot_dict = {'Vaccine': vaccines, 'Positive/Total': vaccine_percent_pos}\n",
    "vaccine_plot_df = pd.DataFrame(vaccine_plot_dict)\n",
    "sns.barplot(x=\"Vaccine\", y=\"Positive/Total\", data=vaccine_plot_df)\n",
    "plt.title(\"US Vaccine Comparison\")"
   ]
  },
  {
   "cell_type": "code",
   "execution_count": 283,
   "metadata": {},
   "outputs": [],
   "source": [
    "vaccine_side_effect_percent_pos = []\n",
    "for vaccine in vaccines:\n",
    "    idx_list = list(set(get_keyword_indexes(vaccine)) & set(get_keyword_indexes(\"side effect\")))\n",
    "    vaccine_side_effect_percent_pos.append(get_positive_percentage(idx_list))"
   ]
  },
  {
   "cell_type": "code",
   "execution_count": 284,
   "metadata": {},
   "outputs": [
    {
     "data": {
      "text/plain": [
       "Text(0.5, 1.0, 'US Vaccine Side Effects Comparison')"
      ]
     },
     "execution_count": 284,
     "metadata": {},
     "output_type": "execute_result"
    },
    {
     "data": {
      "image/png": "[encoded data removed]",
      "text/plain": [
       "<Figure size 432x288 with 1 Axes>"
      ]
     },
     "metadata": {},
     "output_type": "display_data"
    }
   ],
   "source": [
    "vaccine_side_effect_plot_dict = {'Vaccine': vaccines, 'Positive/Total': vaccine_side_effect_percent_pos}\n",
    "vaccine_side_effect_plot_df = pd.DataFrame(vaccine_side_effect_plot_dict)\n",
    "sns.barplot(x=\"Vaccine\", y=\"Positive/Total\", data=vaccine_side_effect_plot_df)\n",
    "plt.title(\"US Vaccine Side Effects Comparison\")"
   ]
  },
  {
   "cell_type": "code",
   "execution_count": 285,
   "metadata": {},
   "outputs": [],
   "source": [
    "vaccine_time_values = {\n",
    "    'pfizer' : [],\n",
    "    'moderna' : [],\n",
    "    'johnson' : [],\n",
    "}\n",
    "for i in [12,1,2,3,4]:\n",
    "    for vaccine in vaccines:\n",
    "        idx_list_1 = list(set(get_keyword_indexes(vaccine)) & set(get_two_week_indexes(i, True)))\n",
    "        idx_list_2 = list(set(get_keyword_indexes(vaccine)) & set(get_two_week_indexes(i, False)))\n",
    "        vaccine_time_values[vaccine].append(get_positive_percentage(idx_list_1))\n",
    "        vaccine_time_values[vaccine].append(get_positive_percentage(idx_list_2))"
   ]
  },
  {
   "cell_type": "code",
   "execution_count": 286,
   "metadata": {},
   "outputs": [
    {
     "data": {
      "text/plain": [
       "Text(0.5, 1.0, 'US Vaccines Over Time')"
      ]
     },
     "execution_count": 286,
     "metadata": {},
     "output_type": "execute_result"
    },
    {
     "data": {
      "image/png": "[encoded data removed]",
      "text/plain": [
       "<Figure size 432x288 with 1 Axes>"
      ]
     },
     "metadata": {},
     "output_type": "display_data"
    }
   ],
   "source": [
    "vaccine_time_values[\"Month\"] = months_axis\n",
    "vaccine_time_plot_df = pd.DataFrame(vaccine_time_values)\n",
    "sns.set(style='darkgrid')\n",
    "sns.lineplot(x='Month', y = 'moderna', data=vaccine_time_plot_df, sort=False)\n",
    "sns.lineplot(x='Month', y = 'pfizer', data=vaccine_time_plot_df, sort=False)\n",
    "sns.lineplot(x='Month', y = 'johnson', data=vaccine_time_plot_df, sort=False)\n",
    "plt.legend(labels=['Moderna', 'Pfizer', 'J&J'])\n",
    "plt.ylabel(\"Positives/Total\")\n",
    "plt.title(\"US Vaccines Over Time\")"
   ]
  },
  {
   "cell_type": "code",
   "execution_count": 235,
   "metadata": {},
   "outputs": [],
   "source": [
    "np.savetxt(\"covid_tweet_predictions.csv\", covid_sent_pred, delimiter=\",\", header=\"Sentiments\")"
   ]
  },
  {
   "cell_type": "code",
   "execution_count": 231,
   "metadata": {},
   "outputs": [
    {
     "data": {
      "text/plain": [
       "69718"
      ]
     },
     "execution_count": 231,
     "metadata": {},
     "output_type": "execute_result"
    }
   ],
   "source": [
    "len(covid_sent_pred)"
   ]
  },
  {
   "cell_type": "code",
   "execution_count": 252,
   "metadata": {},
   "outputs": [],
   "source": [
    "read_test = pd.read_csv('covid_tweet_predictions.csv')\n",
    "sentiments = read_test['# Sentiments']"
   ]
  },
  {
   "cell_type": "code",
   "execution_count": 254,
   "metadata": {},
   "outputs": [
    {
     "data": {
      "text/plain": [
       "1.0"
      ]
     },
     "execution_count": 254,
     "metadata": {},
     "output_type": "execute_result"
    }
   ],
   "source": [
    "sentiments[0]"
   ]
  },
  {
   "cell_type": "code",
   "execution_count": 298,
   "metadata": {},
   "outputs": [
    {
     "data": {
      "text/plain": [
       "Text(0.5, 1.0, 'European Vaccine Comparison')"
      ]
     },
     "execution_count": 298,
     "metadata": {},
     "output_type": "execute_result"
    },
    {
     "data": {
      "image/png": "[encoded data removed]",
      "text/plain": [
       "<Figure size 432x288 with 1 Axes>"
      ]
     },
     "metadata": {},
     "output_type": "display_data"
    }
   ],
   "source": [
    "euro_vaccines = ['sputnik', 'astrazeneca']\n",
    "euro_vaccine_percent_pos = []\n",
    "for euro_vaccine in euro_vaccines:\n",
    "    euro_vaccine_percent_pos.append(get_positive_percentage(get_keyword_indexes(euro_vaccine)))\n",
    "euro_vaccine_plot_dict = {'Vaccine': euro_vaccines, 'Positive/Total': euro_vaccine_percent_pos}\n",
    "euro_vaccine_plot_df = pd.DataFrame(euro_vaccine_plot_dict)\n",
    "sns.barplot(x=\"Vaccine\", y=\"Positive/Total\", data=euro_vaccine_plot_df)\n",
    "plt.title(\"European Vaccine Comparison\")"
   ]
  },
  {
   "cell_type": "code",
   "execution_count": 277,
   "metadata": {},
   "outputs": [
    {
     "data": {
      "text/plain": [
       "Text(0.5, 1.0, 'India Vaccine Comparison')"
      ]
     },
     "execution_count": 277,
     "metadata": {},
     "output_type": "execute_result"
    },
    {
     "data": {
      "image/png": "[encoded data removed]",
      "text/plain": [
       "<Figure size 432x288 with 1 Axes>"
      ]
     },
     "metadata": {},
     "output_type": "display_data"
    }
   ],
   "source": [
    "indian_vaccines = ['covaxin', 'covishield']\n",
    "indian_vaccine_percent_pos = []\n",
    "for indian_vaccine in indian_vaccines:\n",
    "    indian_vaccine_percent_pos.append(get_positive_percentage(get_keyword_indexes(indian_vaccine)))\n",
    "indian_vaccine_plot_dict = {'Vaccine': indian_vaccines, 'Positive/Total': indian_vaccine_percent_pos}\n",
    "indian_vaccine_plot_df = pd.DataFrame(indian_vaccine_plot_dict)\n",
    "sns.barplot(x=\"Vaccine\", y=\"Positive/Total\", data=indian_vaccine_plot_df)\n",
    "plt.title(\"India Vaccine Comparison\")"
   ]
  },
  {
   "cell_type": "code",
   "execution_count": 275,
   "metadata": {},
   "outputs": [
    {
     "data": {
      "text/plain": [
       "Text(0.5, 1.0, 'India Vaccines Over Time')"
      ]
     },
     "execution_count": 275,
     "metadata": {},
     "output_type": "execute_result"
    },
    {
     "data": {
      "image/png": "[encoded data removed]",
      "text/plain": [
       "<Figure size 432x288 with 1 Axes>"
      ]
     },
     "metadata": {},
     "output_type": "display_data"
    }
   ],
   "source": [
    "vaccine_time_values = {\n",
    "    'covaxin' : [],\n",
    "    'covishield' : [],\n",
    "}\n",
    "for i in [12,1,2,3,4]:\n",
    "    for vaccine in indian_vaccines:\n",
    "        idx_list_1 = list(set(get_keyword_indexes(vaccine)) & set(get_two_week_indexes(i, True)))\n",
    "        idx_list_2 = list(set(get_keyword_indexes(vaccine)) & set(get_two_week_indexes(i, False)))\n",
    "        vaccine_time_values[vaccine].append(get_positive_percentage(idx_list_1))\n",
    "        vaccine_time_values[vaccine].append(get_positive_percentage(idx_list_2))\n",
    "vaccine_time_values['covaxin'].pop(0)\n",
    "vaccine_time_values['covishield'].pop(0)\n",
    "months_axis_india = [\"Dec2\", \"Jan1\", \"Jan2\", \"Feb1\", \"Feb2\", \"Mar1\", \"Mar2\", \"Apr1\", \"Apr2\"]\n",
    "vaccine_time_values[\"Month\"] = months_axis_india\n",
    "vaccine_time_plot_df = pd.DataFrame(vaccine_time_values)\n",
    "sns.set(style='darkgrid')\n",
    "sns.lineplot(x='Month', y = 'covaxin', data=vaccine_time_plot_df, sort=False)\n",
    "sns.lineplot(x='Month', y = 'covishield', data=vaccine_time_plot_df, sort=False)\n",
    "plt.legend(labels=['Covaxin', 'Covishield'])\n",
    "plt.ylabel(\"Positives/Total\")\n",
    "plt.title(\"India Vaccines Over Time\")"
   ]
  },
  {
   "cell_type": "code",
   "execution_count": 276,
   "metadata": {},
   "outputs": [
    {
     "data": {
      "text/plain": [
       "Text(0.5, 1.0, 'Pfizer/Moderna Dose Comparison')"
      ]
     },
     "execution_count": 276,
     "metadata": {},
     "output_type": "execute_result"
    },
    {
     "data": {
      "image/png": "[encoded data removed]",
      "text/plain": [
       "<Figure size 432x288 with 1 Axes>"
      ]
     },
     "metadata": {},
     "output_type": "display_data"
    }
   ],
   "source": [
    "vaccine_doses = []\n",
    "for vaccine in ['pfizer', 'moderna']:\n",
    "    idx_list1 = list(set(get_keyword_indexes(vaccine)) & set(get_keyword_indexes(\"first dose\")))\n",
    "    idx_list2 = list(set(get_keyword_indexes(vaccine)) & set(get_keyword_indexes(\"second dose\")))\n",
    "    vaccine_doses.append(get_positive_percentage(idx_list1))\n",
    "    vaccine_doses.append(get_positive_percentage(idx_list2))\n",
    "vaccine_doses_dict = {'Vaccine': ['Pfizer dose 1', 'Pfizer dose 2', 'Moderna dose 1', 'Moderna dose 2'], 'Positive/Total': vaccine_doses}\n",
    "vaccine_doses_df = pd.DataFrame(vaccine_doses_dict)\n",
    "sns.barplot(x=\"Vaccine\", y=\"Positive/Total\", data=vaccine_doses_df)\n",
    "plt.title(\"Pfizer/Moderna Dose Comparison\")"
   ]
  },
  {
   "cell_type": "code",
   "execution_count": 287,
   "metadata": {},
   "outputs": [
    {
     "name": "stdout",
     "output_type": "stream",
     "text": [
      "Tweet:  none dirty chinese communist party cpc vaccine recognized worldwide approved far ... Prediction: Negative\n",
      "\n",
      "\n",
      "Tweet:  good news pfizer moderna covid vaccine prove effective realworld study realworldstudy ... Prediction: Positive\n",
      "\n",
      "\n",
      "Tweet:  sinovac ceo caught bribing china 's drug regulator approval sinopharm side effect unsaf ... Prediction: Positive\n",
      "\n",
      "\n",
      "Tweet:  nepal becomes third country give emergency nod indian vaccine covaxin nepal ... Prediction: Negative\n",
      "\n",
      "\n",
      "Tweet:  also bb update ... Prediction: Positive\n",
      "\n",
      "\n",
      "Tweet:  iran khamenei 's red crescent announced ban import pfizerbiontech vaccinesth ... Prediction: Negative\n",
      "\n",
      "\n",
      "Tweet:  dos china donated sinopharm covid vaccine departed beijing earlier today ... Prediction: Positive\n",
      "\n",
      "\n",
      "Tweet:  anyone interested hearing positive side effect pfizerbiontech vaccine pain 'm sure ... Prediction: Positive\n",
      "\n",
      "\n",
      "Tweet:  somalia another african country receive chinesemade covid vaccine china donate dos ... Prediction: Positive\n",
      "\n",
      "\n",
      "Tweet:  im pfizerprincess take moderna pfizer pfizervaccine moderna pfizer Prediction: Positive\n",
      "\n",
      "\n",
      "Tweet:  philippine get dos covid vaccine china sinovac vaccine philippine china Prediction: Positive\n",
      "\n",
      "\n",
      "Tweet:  got second moderna vaccine thank freedom Prediction: Positive\n",
      "\n",
      "\n",
      "Tweet:  st dose done getvaccinated covidvaccination moderna Prediction: Positive\n",
      "\n",
      "\n",
      "Tweet:  dollar doldrums vaccine fan recovery bet economy growth asia europe america ... Prediction: Positive\n",
      "\n",
      "\n",
      "Tweet:  'm baaaad reaaaally baaad according area need wear face mask outside nonstop btw way ... Prediction: Negative\n",
      "\n",
      "\n",
      "Tweet:  local made covishieldvaccine r central govt seruminstituteofindia somebody tell price wi ... Prediction: Negative\n",
      "\n",
      "\n",
      "Tweet:  singapore received first batch covid vaccine made china sinovac biotech tuesday Prediction: Positive\n",
      "\n",
      "\n",
      "Tweet:  covaxin nigeria need supplementary budget covid vaccine finance minister pls ... Prediction: Negative\n",
      "\n",
      "\n",
      "Tweet:  happy say got first dose moderna covid vaccine today Prediction: Positive\n",
      "\n",
      "\n",
      "Tweet:  came across amazing finding sputnik nowbeing adenovirus vectortried tested mechanism across ... Prediction: Positive\n",
      "\n",
      "\n"
     ]
    }
   ],
   "source": [
    "from numpy import random\n",
    "\n",
    "x=random.randint(len(df), size=(20))\n",
    "for i in x:\n",
    "    if covid_sent_pred[i] == 0:\n",
    "        print(\"Tweet: \", X[i], \"Prediction: Negative\")\n",
    "    else:\n",
    "        print(\"Tweet: \", X[i], \"Prediction: Positive\")\n",
    "    print(\"\\n\")"
   ]
  },
  {
   "cell_type": "code",
   "execution_count": 301,
   "metadata": {},
   "outputs": [
    {
     "data": {
      "text/plain": [
       "Text(0.5, 1.0, 'European Vaccines Over Time')"
      ]
     },
     "execution_count": 301,
     "metadata": {},
     "output_type": "execute_result"
    },
    {
     "data": {
      "image/png": "[encoded data removed]",
      "text/plain": [
       "<Figure size 432x288 with 1 Axes>"
      ]
     },
     "metadata": {},
     "output_type": "display_data"
    }
   ],
   "source": [
    "#vaccine_time_values = {\n",
    "#    'sputnik' : [],\n",
    "#    'astrazeneca' : [],\n",
    "#}\n",
    "#for i in [12,1,2,3,4]:\n",
    "#    for vaccine in euro_vaccines:\n",
    "#        idx_list_1 = list(set(get_keyword_indexes(vaccine)) & set(get_two_week_indexes(i, True)))\n",
    "#        idx_list_2 = list(set(get_keyword_indexes(vaccine)) & set(get_two_week_indexes(i, False)))\n",
    "#        vaccine_time_values[vaccine].append(get_positive_percentage(idx_list_1))\n",
    "#        vaccine_time_values[vaccine].append(get_positive_percentage(idx_list_2))\n",
    "#vaccine_time_values['covaxin'].pop(0)\n",
    "#vaccine_time_values['covishield'].pop(0)\n",
    "#months_axis_india = [\"Dec2\", \"Jan1\", \"Jan2\", \"Feb1\", \"Feb2\", \"Mar1\", \"Mar2\", \"Apr1\", \"Apr2\"]\n",
    "vaccine_time_values[\"Month\"] = months_axis\n",
    "vaccine_time_plot_df = pd.DataFrame(vaccine_time_values)\n",
    "sns.set(style='darkgrid')\n",
    "sns.lineplot(x='Month', y = 'sputnik', data=vaccine_time_plot_df, sort=False)\n",
    "sns.lineplot(x='Month', y = 'astrazeneca', data=vaccine_time_plot_df, sort=False)\n",
    "plt.legend(labels=['Sputnik V', 'Astrazeneca'])\n",
    "plt.ylabel(\"Positives/Total\")\n",
    "plt.title(\"European Vaccines Over Time\")"
   ]
  },
  {
   "cell_type": "code",
   "execution_count": 295,
   "metadata": {},
   "outputs": [
    {
     "data": {
      "text/plain": [
       "{'sputnik v': [],\n",
       " 'astrazeneca': [],\n",
       " 'Month': ['Dec1',\n",
       "  'Dec2',\n",
       "  'Jan1',\n",
       "  'Jan2',\n",
       "  'Feb1',\n",
       "  'Feb2',\n",
       "  'Mar1',\n",
       "  'Mar2',\n",
       "  'Apr1',\n",
       "  'Apr2']}"
      ]
     },
     "execution_count": 295,
     "metadata": {},
     "output_type": "execute_result"
    }
   ],
   "source": [
    "vaccine_time_values"
   ]
  },
  {
   "cell_type": "code",
   "execution_count": 296,
   "metadata": {},
   "outputs": [
    {
     "data": {
      "text/plain": [
       "['sputnik v', 'astrazeneca']"
      ]
     },
     "execution_count": 296,
     "metadata": {},
     "output_type": "execute_result"
    }
   ],
   "source": [
    "euro_vaccines"
   ]
  },
  {
   "cell_type": "code",
   "execution_count": null,
   "metadata": {},
   "outputs": [],
   "source": []
  }
 ],
 "metadata": {
  "kernelspec": {
   "display_name": "Python 3",
   "language": "python",
   "name": "python3"
  },
  "language_info": {
   "codemirror_mode": {
    "name": "ipython",
    "version": 3
   },
   "file_extension": ".py",
   "mimetype": "text/x-python",
   "name": "python",
   "nbconvert_exporter": "python",
   "pygments_lexer": "ipython3",
   "version": "3.7.4"
  }
 },
 "nbformat": 4,
 "nbformat_minor": 2
}
